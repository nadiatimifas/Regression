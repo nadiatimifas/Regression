{
 "cells": [
  {
   "cell_type": "code",
   "execution_count": 1,
   "id": "5e3664e1",
   "metadata": {},
   "outputs": [],
   "source": [
    "# importer les librairies \n",
    "import pandas as pd\n",
    "import matplotlib.pyplot as plt\n",
    "from sklearn.model_selection import train_test_split\n",
    "from sklearn.linear_model import LinearRegression"
   ]
  },
  {
   "cell_type": "code",
   "execution_count": 5,
   "id": "8fd64146",
   "metadata": {},
   "outputs": [],
   "source": [
    "# importer dataset\n",
    "data = pd.read_csv('MaisonLoyer.csv',sep = \";\")"
   ]
  },
  {
   "cell_type": "code",
   "execution_count": 6,
   "id": "cce93400",
   "metadata": {},
   "outputs": [
    {
     "data": {
      "text/html": [
       "<div>\n",
       "<style scoped>\n",
       "    .dataframe tbody tr th:only-of-type {\n",
       "        vertical-align: middle;\n",
       "    }\n",
       "\n",
       "    .dataframe tbody tr th {\n",
       "        vertical-align: top;\n",
       "    }\n",
       "\n",
       "    .dataframe thead th {\n",
       "        text-align: right;\n",
       "    }\n",
       "</style>\n",
       "<table border=\"1\" class=\"dataframe\">\n",
       "  <thead>\n",
       "    <tr style=\"text-align: right;\">\n",
       "      <th></th>\n",
       "      <th>surface</th>\n",
       "      <th>loyer</th>\n",
       "    </tr>\n",
       "  </thead>\n",
       "  <tbody>\n",
       "    <tr>\n",
       "      <th>0</th>\n",
       "      <td>37</td>\n",
       "      <td>1330</td>\n",
       "    </tr>\n",
       "    <tr>\n",
       "      <th>1</th>\n",
       "      <td>32</td>\n",
       "      <td>1400</td>\n",
       "    </tr>\n",
       "    <tr>\n",
       "      <th>2</th>\n",
       "      <td>26</td>\n",
       "      <td>904</td>\n",
       "    </tr>\n",
       "    <tr>\n",
       "      <th>3</th>\n",
       "      <td>30</td>\n",
       "      <td>955</td>\n",
       "    </tr>\n",
       "    <tr>\n",
       "      <th>4</th>\n",
       "      <td>70</td>\n",
       "      <td>2545</td>\n",
       "    </tr>\n",
       "    <tr>\n",
       "      <th>...</th>\n",
       "      <td>...</td>\n",
       "      <td>...</td>\n",
       "    </tr>\n",
       "    <tr>\n",
       "      <th>119</th>\n",
       "      <td>80</td>\n",
       "      <td>3550</td>\n",
       "    </tr>\n",
       "    <tr>\n",
       "      <th>120</th>\n",
       "      <td>116</td>\n",
       "      <td>4000</td>\n",
       "    </tr>\n",
       "    <tr>\n",
       "      <th>121</th>\n",
       "      <td>152</td>\n",
       "      <td>4407</td>\n",
       "    </tr>\n",
       "    <tr>\n",
       "      <th>122</th>\n",
       "      <td>159</td>\n",
       "      <td>5000</td>\n",
       "    </tr>\n",
       "    <tr>\n",
       "      <th>123</th>\n",
       "      <td>162</td>\n",
       "      <td>5233</td>\n",
       "    </tr>\n",
       "  </tbody>\n",
       "</table>\n",
       "<p>124 rows × 2 columns</p>\n",
       "</div>"
      ],
      "text/plain": [
       "     surface  loyer\n",
       "0         37   1330\n",
       "1         32   1400\n",
       "2         26    904\n",
       "3         30    955\n",
       "4         70   2545\n",
       "..       ...    ...\n",
       "119       80   3550\n",
       "120      116   4000\n",
       "121      152   4407\n",
       "122      159   5000\n",
       "123      162   5233\n",
       "\n",
       "[124 rows x 2 columns]"
      ]
     },
     "execution_count": 6,
     "metadata": {},
     "output_type": "execute_result"
    }
   ],
   "source": [
    "data"
   ]
  },
  {
   "cell_type": "code",
   "execution_count": 10,
   "id": "52711306",
   "metadata": {},
   "outputs": [
    {
     "data": {
      "image/png": "[encoded data removed]",
      "text/plain": [
       "<Figure size 432x288 with 1 Axes>"
      ]
     },
     "metadata": {
      "needs_background": "light"
     },
     "output_type": "display_data"
    }
   ],
   "source": [
    "# afficher nuage de points\n",
    "plt.scatter(data['surface'],data['loyer'],color = 'red')\n",
    "plt.title(\"Housing Prices\")\n",
    "plt.show()"
   ]
  },
  {
   "cell_type": "code",
   "execution_count": 6,
   "id": "67b53bb9",
   "metadata": {},
   "outputs": [],
   "source": [
    "# exclure les données dont le loyer supérieure à 10000\n",
    "data = data[data['loyer']<=10000]"
   ]
  },
  {
   "cell_type": "code",
   "execution_count": 12,
   "id": "6c7f10d0",
   "metadata": {},
   "outputs": [],
   "source": [
    "# on a mis dans X tous les colonnes sauf la derniere et on a mis dans Y la derniere colonne\n",
    "\n",
    "X = data.iloc[:,:-1].values\n",
    "Y = data.iloc[:,-1].values"
   ]
  },
  {
   "cell_type": "code",
   "execution_count": 13,
   "id": "c6a5a68e",
   "metadata": {},
   "outputs": [
    {
     "data": {
      "text/plain": [
       "array([[ 37],\n",
       "       [ 32],\n",
       "       [ 26],\n",
       "       [ 30],\n",
       "       [ 70],\n",
       "       [ 24],\n",
       "       [ 41],\n",
       "       [ 67],\n",
       "       [ 63],\n",
       "       [ 75],\n",
       "       [ 81],\n",
       "       [ 26],\n",
       "       [ 36],\n",
       "       [ 19],\n",
       "       [220],\n",
       "       [ 25],\n",
       "       [ 35],\n",
       "       [120],\n",
       "       [ 40],\n",
       "       [ 30],\n",
       "       [ 25],\n",
       "       [ 21],\n",
       "       [ 44],\n",
       "       [ 35],\n",
       "       [ 53],\n",
       "       [ 40],\n",
       "       [ 35],\n",
       "       [ 40],\n",
       "       [ 60],\n",
       "       [ 30],\n",
       "       [ 34],\n",
       "       [ 64],\n",
       "       [ 47],\n",
       "       [ 43],\n",
       "       [ 62],\n",
       "       [ 50],\n",
       "       [ 53],\n",
       "       [ 50],\n",
       "       [ 50],\n",
       "       [ 60],\n",
       "       [ 42],\n",
       "       [ 52],\n",
       "       [ 45],\n",
       "       [ 41],\n",
       "       [ 63],\n",
       "       [ 55],\n",
       "       [ 46],\n",
       "       [ 73],\n",
       "       [ 53],\n",
       "       [ 64],\n",
       "       [ 38],\n",
       "       [ 65],\n",
       "       [ 59],\n",
       "       [ 47],\n",
       "       [ 75],\n",
       "       [ 83],\n",
       "       [ 69],\n",
       "       [ 68],\n",
       "       [ 69],\n",
       "       [ 72],\n",
       "       [ 40],\n",
       "       [ 45],\n",
       "       [ 68],\n",
       "       [ 69],\n",
       "       [ 35],\n",
       "       [ 78],\n",
       "       [ 65],\n",
       "       [ 54],\n",
       "       [ 60],\n",
       "       [ 64],\n",
       "       [162],\n",
       "       [137],\n",
       "       [160],\n",
       "       [157],\n",
       "       [160],\n",
       "       [152],\n",
       "       [152],\n",
       "       [180],\n",
       "       [182],\n",
       "       [220],\n",
       "       [ 20],\n",
       "       [ 19],\n",
       "       [ 19],\n",
       "       [ 18],\n",
       "       [ 28],\n",
       "       [ 24],\n",
       "       [ 21],\n",
       "       [ 30],\n",
       "       [ 19],\n",
       "       [ 26],\n",
       "       [ 31],\n",
       "       [ 32],\n",
       "       [ 20],\n",
       "       [ 26],\n",
       "       [ 83],\n",
       "       [ 99],\n",
       "       [ 88],\n",
       "       [104],\n",
       "       [ 85],\n",
       "       [ 70],\n",
       "       [ 60],\n",
       "       [ 60],\n",
       "       [ 84],\n",
       "       [103],\n",
       "       [108],\n",
       "       [ 70],\n",
       "       [ 88],\n",
       "       [101],\n",
       "       [103],\n",
       "       [ 70],\n",
       "       [ 63],\n",
       "       [ 60],\n",
       "       [ 72],\n",
       "       [ 91],\n",
       "       [ 97],\n",
       "       [135],\n",
       "       [ 80],\n",
       "       [116],\n",
       "       [152],\n",
       "       [159],\n",
       "       [162]], dtype=int64)"
      ]
     },
     "execution_count": 13,
     "metadata": {},
     "output_type": "execute_result"
    }
   ],
   "source": [
    "X"
   ]
  },
  {
   "cell_type": "code",
   "execution_count": 14,
   "id": "cb2e84cf",
   "metadata": {},
   "outputs": [
    {
     "data": {
      "text/plain": [
       "array([1330, 1400,  904,  955, 2545,  900, 1560, 1960, 2000, 2600, 3280,\n",
       "        980, 1250,  752,  815, 1147, 1500, 3587, 1355, 1245, 1100, 1120,\n",
       "       1225, 1250, 1880, 1700, 1700, 1700, 2000, 1600, 1700, 2050, 1600,\n",
       "       1750, 1765, 1790, 1689, 1795, 1800, 1700, 1800, 1850, 1850, 1750,\n",
       "       1950, 1900, 1950, 1750, 2000, 2044, 2100, 2100, 2100, 2100, 2107,\n",
       "       2116, 2132, 2000, 2180, 2100, 2200, 2200, 2216, 2240, 2249, 2282,\n",
       "       2300, 2300, 2320, 2324, 5233, 5249, 5500, 5600, 5970, 6000, 6000,\n",
       "       7450, 7280, 1000,  775,  816,  800,  900,  900,  888,  960,  966,\n",
       "       1000, 1040, 1048, 1072, 1090, 1100, 3700, 4100, 3000, 4000, 3150,\n",
       "       3050, 2950, 2950, 3200, 3234, 3300, 3420, 3350, 3130, 3500, 3700,\n",
       "       3705, 3705, 3800, 3900, 3700, 4800, 3550, 4000, 4407, 5000, 5233],\n",
       "      dtype=int64)"
      ]
     },
     "execution_count": 14,
     "metadata": {},
     "output_type": "execute_result"
    }
   ],
   "source": [
    "Y"
   ]
  },
  {
   "cell_type": "code",
   "execution_count": 23,
   "id": "b42ff62b",
   "metadata": {},
   "outputs": [],
   "source": [
    "# diviser le dataset \n",
    "X_train,X_test,Y_train,Y_test= train_test_split(X,Y,test_size = 1.0/3)"
   ]
  },
  {
   "cell_type": "code",
   "execution_count": 24,
   "id": "a337b02b",
   "metadata": {},
   "outputs": [
    {
     "data": {
      "text/plain": [
       "121"
      ]
     },
     "execution_count": 24,
     "metadata": {},
     "output_type": "execute_result"
    }
   ],
   "source": [
    "len(X)"
   ]
  },
  {
   "cell_type": "code",
   "execution_count": 27,
   "id": "a294a690",
   "metadata": {},
   "outputs": [
    {
     "data": {
      "text/plain": [
       "80"
      ]
     },
     "execution_count": 27,
     "metadata": {},
     "output_type": "execute_result"
    }
   ],
   "source": [
    "len(X_train)"
   ]
  },
  {
   "cell_type": "code",
   "execution_count": 28,
   "id": "34d62ec5",
   "metadata": {},
   "outputs": [
    {
     "data": {
      "text/plain": [
       "41"
      ]
     },
     "execution_count": 28,
     "metadata": {},
     "output_type": "execute_result"
    }
   ],
   "source": [
    "len(X_test)"
   ]
  },
  {
   "cell_type": "code",
   "execution_count": 29,
   "id": "edaaa164",
   "metadata": {},
   "outputs": [
    {
     "data": {
      "text/plain": [
       "LinearRegression()"
      ]
     },
     "execution_count": 29,
     "metadata": {},
     "output_type": "execute_result"
    }
   ],
   "source": [
    "# construire le modele \n",
    "regressor = LinearRegression()\n",
    "regressor.fit(X_train,Y_train)"
   ]
  },
  {
   "cell_type": "code",
   "execution_count": 30,
   "id": "62dfbbe9",
   "metadata": {},
   "outputs": [],
   "source": [
    "# faire des predictions \n",
    "Y_pred = regressor.predict(X_test)"
   ]
  },
  {
   "cell_type": "code",
   "execution_count": 31,
   "id": "925baebb",
   "metadata": {},
   "outputs": [
    {
     "data": {
      "text/plain": [
       "array([1774.77569396, 2566.03657407, 2763.8517941 , 1840.71410063,\n",
       "       2862.75940411, 5566.23407782, 3027.6054208 , 1313.20684723,\n",
       "       2500.09816739, 1774.77569396, 3291.3590475 , 5467.3264678 ,\n",
       "       1939.62171065, 2401.19055738, 2664.94418408, 6225.61814457,\n",
       "        917.57640717, 3851.83550425, 1807.7448973 , 7544.38627809,\n",
       "       2664.94418408, 5302.48045111, 7544.38627809, 1082.42242386,\n",
       "       1445.08366058, 4115.58913095, 2401.19055738, 3192.45143749,\n",
       "       2599.00577741, 1082.42242386, 3060.57462414, 3686.98948756,\n",
       "       1708.83728728, 1675.86808394, 2269.31374403,  950.54561051,\n",
       "       5566.23407782, 1478.05286392, 1148.36083054, 1280.23764389,\n",
       "       2566.03657407])"
      ]
     },
     "execution_count": 31,
     "metadata": {},
     "output_type": "execute_result"
    }
   ],
   "source": [
    "Y_pred"
   ]
  },
  {
   "cell_type": "code",
   "execution_count": 32,
   "id": "40262772",
   "metadata": {},
   "outputs": [
    {
     "data": {
      "text/plain": [
       "array([1850, 2240, 2107, 1600, 2282, 5970, 2116, 1048, 1960, 2200, 3900,\n",
       "       5600, 1795, 2050, 2100, 7450,  752, 3300, 1950,  815, 3800, 6000,\n",
       "       1000,  888, 1500, 4000, 2324, 3000, 3050,  900, 3200, 3500, 1750,\n",
       "       1800, 3705,  775, 5500, 1250, 1040, 1245, 2132], dtype=int64)"
      ]
     },
     "execution_count": 32,
     "metadata": {},
     "output_type": "execute_result"
    }
   ],
   "source": [
    "Y_test"
   ]
  },
  {
   "cell_type": "code",
   "execution_count": 34,
   "id": "3f191c06",
   "metadata": {},
   "outputs": [
    {
     "data": {
      "text/plain": [
       "array([4412.31196099])"
      ]
     },
     "execution_count": 34,
     "metadata": {},
     "output_type": "execute_result"
    }
   ],
   "source": [
    "regressor.predict([[125]])"
   ]
  },
  {
   "cell_type": "code",
   "execution_count": 53,
   "id": "e7f691a7",
   "metadata": {},
   "outputs": [
    {
     "data": {
      "text/plain": [
       "Text(0, 0.5, 'loyer')"
      ]
     },
     "execution_count": 53,
     "metadata": {},
     "output_type": "execute_result"
    },
    {
     "data": {
      "image/png": "[encoded data removed]",
      "text/plain": [
       "<Figure size 432x288 with 1 Axes>"
      ]
     },
     "metadata": {
      "needs_background": "light"
     },
     "output_type": "display_data"
    }
   ],
   "source": [
    "# visualier les resultats\n",
    "plt.scatter(X_test,Y_test,color=\"red\")\n",
    "plt.plot(X_train,regressor.predict(X_train),color=\"blue\")\n",
    "#plt.title('Evolution des loyers par surface')\n",
    "plt.xlabel('surface')\n",
    "plt.ylabel('loyer')"
   ]
  },
  {
   "cell_type": "code",
   "execution_count": null,
   "id": "d4eec00f",
   "metadata": {},
   "outputs": [],
   "source": []
  },
  {
   "cell_type": "code",
   "execution_count": null,
   "id": "a8bc69b7",
   "metadata": {},
   "outputs": [],
   "source": []
  }
 ],
 "metadata": {
  "kernelspec": {
   "display_name": "Python 3 (ipykernel)",
   "language": "python",
   "name": "python3"
  },
  "language_info": {
   "codemirror_mode": {
    "name": "ipython",
    "version": 3
   },
   "file_extension": ".py",
   "mimetype": "text/x-python",
   "name": "python",
   "nbconvert_exporter": "python",
   "pygments_lexer": "ipython3",
   "version": "3.11.5"
  }
 },
 "nbformat": 4,
 "nbformat_minor": 5
}
